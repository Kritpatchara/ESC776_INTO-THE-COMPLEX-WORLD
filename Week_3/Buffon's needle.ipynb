{
 "cells": [
  {
   "cell_type": "code",
   "execution_count": 2,
   "metadata": {},
   "outputs": [],
   "source": [
    "import numpy as np\n",
    "import matplotlib.pyplot as plt"
   ]
  },
  {
   "cell_type": "markdown",
   "metadata": {},
   "source": [
    "Simulate Buffon's needle to find pi:\n",
    "1) Throw 1 time using 100 needles\n",
    "2) Throw 1 time using 1000 needles\n",
    "3) Throw 100 times using 1000 needles\n",
    "\n",
    "Then plot histogram\n",
    "\n",
    "4) Compare pi value from 1)-3) and describe it"
   ]
  },
  {
   "cell_type": "code",
   "execution_count": 3,
   "metadata": {},
   "outputs": [
    {
     "name": "stdout",
     "output_type": "stream",
     "text": [
      "3.3333333333333335\n"
     ]
    }
   ],
   "source": [
    "# 1. Throw 1 time using 100 needles\n",
    "d = 4\n",
    "L = 2\n",
    "x = []\n",
    "theta = []\n",
    "\n",
    "for i in range(0, 100):\n",
    "    x_temp = np.random.uniform(0, d/2)\n",
    "    theta_temp = np.random.uniform(0, np.pi/2)\n",
    "    if x_temp <= (L/2)*np.sin(theta_temp):\n",
    "        x.append(x_temp)\n",
    "        theta.append(theta_temp)\n",
    "pie = 100/len(x)\n",
    "print(pie)"
   ]
  },
  {
   "cell_type": "code",
   "execution_count": 4,
   "metadata": {},
   "outputs": [
    {
     "name": "stdout",
     "output_type": "stream",
     "text": [
      "3.2467532467532467\n"
     ]
    }
   ],
   "source": [
    "# 2. Throw 1 time using 1000 needles\n",
    "d = 4\n",
    "L = 2\n",
    "x = []\n",
    "theta = []\n",
    "\n",
    "for i in range(0, 1000):\n",
    "    x_temp = np.random.uniform(0, d/2)\n",
    "    theta_temp = np.random.uniform(0, np.pi/2)\n",
    "    if x_temp <= (L/2)*np.sin(theta_temp):\n",
    "        x.append(x_temp)\n",
    "        theta.append(theta_temp)\n",
    "pie = 1000/len(x)\n",
    "print(pie)"
   ]
  },
  {
   "cell_type": "code",
   "execution_count": 8,
   "metadata": {},
   "outputs": [
    {
     "name": "stdout",
     "output_type": "stream",
     "text": [
      "3.1370975656837548\n"
     ]
    },
    {
     "data": {
      "image/png": "[encoded data removed]",
      "text/plain": [
       "<Figure size 640x480 with 1 Axes>"
      ]
     },
     "metadata": {},
     "output_type": "display_data"
    }
   ],
   "source": [
    "# 3. Throw 100 times using 1000 needles\n",
    "d = 4\n",
    "L = 2\n",
    "\n",
    "pie = []\n",
    "\n",
    "for e in range(0, 100):\n",
    "    x = []\n",
    "    theta = []\n",
    "    for i in range(0, 1000):\n",
    "        x_temp = np.random.uniform(0, d/2)\n",
    "        theta_temp = np.random.uniform(0, np.pi/2)\n",
    "        if x_temp <= (L/2)*np.sin(theta_temp):\n",
    "            x.append(x_temp)\n",
    "            theta.append(theta_temp)\n",
    "    pie.append(1000/len(x))\n",
    "\n",
    "plt.hist(pie)\n",
    "print(sum(pie)/100)"
   ]
  }
 ],
 "metadata": {
  "kernelspec": {
   "display_name": "Python 3",
   "language": "python",
   "name": "python3"
  },
  "language_info": {
   "codemirror_mode": {
    "name": "ipython",
    "version": 3
   },
   "file_extension": ".py",
   "mimetype": "text/x-python",
   "name": "python",
   "nbconvert_exporter": "python",
   "pygments_lexer": "ipython3",
   "version": "3.10.4"
  }
 },
 "nbformat": 4,
 "nbformat_minor": 2
}
