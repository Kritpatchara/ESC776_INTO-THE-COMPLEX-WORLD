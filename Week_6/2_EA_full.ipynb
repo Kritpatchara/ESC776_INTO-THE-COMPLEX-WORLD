{
  "cells": [
    {
      "cell_type": "code",
      "execution_count": null,
      "metadata": {
        "id": "dpUmgMcoSGIe"
      },
      "outputs": [],
      "source": [
        "import numpy as np"
      ]
    },
    {
      "cell_type": "code",
      "execution_count": 13,
      "metadata": {
        "colab": {
          "base_uri": "https://localhost:8080/"
        },
        "id": "HvisSi6gSN21",
        "outputId": "fd870bea-8cb4-4f0b-a5a4-68da74e40460"
      },
      "outputs": [
        {
          "name": "stdout",
          "output_type": "stream",
          "text": [
            "[[3, 10, 5, 18], [0, 9, 18, 52], [13, 1, 0, 5], [15, 6, 11, 40], [15, 10, 14, 57]]\n"
          ]
        }
      ],
      "source": [
        "# population creation\n",
        "initial_pop=[]\n",
        "K=5\n",
        "for i in range(0,K):\n",
        "  a=np.random.randint(0,20)\n",
        "  b=np.random.randint(0,20)\n",
        "  c=np.random.randint(0,20)\n",
        "  f=abs( a+2*b+3*c-20 )\n",
        "  initial_pop.append( [a,b,c,f] )\n",
        "\n",
        "print(initial_pop)  "
      ]
    },
    {
      "cell_type": "code",
      "execution_count": 14,
      "metadata": {
        "colab": {
          "base_uri": "https://localhost:8080/"
        },
        "id": "dXGuA2aHU0Q9",
        "outputId": "3acd2b1e-4e19-4733-a285-87d72c0e0758"
      },
      "outputs": [
        {
          "name": "stdout",
          "output_type": "stream",
          "text": [
            "[15, 1, 1, 0]\n",
            "[16, -1, 2, 0]\n",
            "[16, -1, 2, 0]\n",
            "[18, -2, 2, 0]\n",
            "[19, -1, 1, 0]\n",
            "[19, -1, 1, 0]\n",
            "[19, -1, 1, 0]\n",
            "[18, -2, 2, 0]\n",
            "[23, -3, 1, 0]\n",
            "[26, -3, 0, 0]\n",
            "[21, -5, 3, 0]\n",
            "[19, -4, 3, 0]\n",
            "[24, -5, 2, 0]\n",
            "[27, -5, 1, 0]\n",
            "[27, -8, 3, 0]\n",
            "[26, -9, 4, 0]\n",
            "[26, -9, 4, 0]\n",
            "[24, -5, 2, 0]\n",
            "[25, -4, 1, 0]\n",
            "[24, -5, 2, 0]\n",
            "[25, -4, 1, 0]\n",
            "[24, -5, 2, 0]\n",
            "[25, -4, 1, 0]\n",
            "[24, -5, 2, 0]\n",
            "[24, -5, 2, 0]\n",
            "[25, -4, 1, 0]\n",
            "[25, -4, 1, 0]\n",
            "[26, 0, -2, 0]\n",
            "[22, -1, 0, 0]\n",
            "[23, -3, 1, 0]\n",
            "[23, -3, 1, 0]\n",
            "[22, -1, 0, 0]\n",
            "[22, -4, 2, 0]\n",
            "[26, -3, 0, 0]\n",
            "[28, -4, 0, 0]\n",
            "[28, -4, 0, 0]\n",
            "[24, -2, 0, 0]\n",
            "[29, -3, -1, 0]\n",
            "[26, -3, 0, 0]\n",
            "[25, -4, 1, 0]\n",
            "[25, -4, 1, 0]\n"
          ]
        }
      ],
      "source": [
        "for gen in range(0,100):\n",
        "  # natural selection\n",
        "  averagefit = np.average(  np.array(initial_pop)[:,3] )\n",
        "\n",
        "  selected_pop=[]\n",
        "  for i in initial_pop:\n",
        "    if i[3] <= averagefit:\n",
        "      selected_pop.append(i)\n",
        "    if i[3] == 0:\n",
        "      print(i)\n",
        "\n",
        "  # print(selected_pop)\n",
        "  # reproduction\n",
        "  index= np.random.randint( len(selected_pop), size=K )\n",
        "  # print(index)\n",
        "\n",
        "  reproduced_pop=np.array(selected_pop)[index,:]\n",
        "  # print(reproduced_pop)\n",
        "  # Mutation\n",
        "  mutated_pop=[]\n",
        "  for i in reproduced_pop:\n",
        "    ra=np.random.choice( [-1,0,1] )\n",
        "    rb=np.random.choice( [-1,0,1] )\n",
        "    rc=np.random.choice( [-1,0,1] )\n",
        "    a=i[0]+ra\n",
        "    b=i[1]+rb\n",
        "    c=i[2]+rc\n",
        "    f=abs( a+2*b+3*c-20 )\n",
        "    mutated_pop.append([a,b,c,f])\n",
        "  # print(mutated_pop)\n",
        "\n",
        "  initial_pop=mutated_pop"
      ]
    }
  ],
  "metadata": {
    "colab": {
      "provenance": []
    },
    "kernelspec": {
      "display_name": "Python 3",
      "name": "python3"
    },
    "language_info": {
      "name": "python"
    }
  },
  "nbformat": 4,
  "nbformat_minor": 0
}
