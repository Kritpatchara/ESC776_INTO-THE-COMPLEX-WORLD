{
 "cells": [
  {
   "cell_type": "markdown",
   "metadata": {},
   "source": [
    "IC50 = a + b×DESCRIPTOR1 + c×DESCRIPTOR2<br>\n",
    "1.325 = a + 0.1b + 2c"
   ]
  },
  {
   "cell_type": "code",
   "execution_count": 38,
   "metadata": {},
   "outputs": [],
   "source": [
    "import numpy as np"
   ]
  },
  {
   "cell_type": "code",
   "execution_count": 39,
   "metadata": {},
   "outputs": [],
   "source": [
    "# Concept\n",
    "\n",
    "# fitness score = |a + 0.1b + 2c - 1.325 = 0|\n",
    "# We want fitness score -> 0\n",
    "# We select only values with fitness score <= average"
   ]
  },
  {
   "cell_type": "code",
   "execution_count": 40,
   "metadata": {},
   "outputs": [],
   "source": [
    "# Initial population creation\n",
    "initial_pop = []\n",
    "n = 30\n",
    "for i in range(n):\n",
    "    a = round(np.random.randint(0,1.325))\n",
    "    b = round(np.random.randint(0,1.325))\n",
    "    c = round(np.random.randint(0,1.325))\n",
    "    fitness_score = round(abs(a+0.1*b+2*c-1.325), 3)\n",
    "    initial_pop.append([a, b, c, fitness_score])\n"
   ]
  },
  {
   "cell_type": "code",
   "execution_count": 41,
   "metadata": {},
   "outputs": [],
   "source": [
    "# Selection\n",
    "averagefit = np.average(np.array(initial_pop)[:, 3])\n",
    "\n",
    "selected_pop = []\n",
    "for i in initial_pop:\n",
    "    if i[3] <= averagefit:\n",
    "        selected_pop.append(i)\n",
    "    if i[3] == 0:\n",
    "        print(i)"
   ]
  },
  {
   "cell_type": "code",
   "execution_count": 42,
   "metadata": {},
   "outputs": [],
   "source": [
    "# Reproduction\n",
    "index = np.random.randint(len(selected_pop), size = n)\n",
    "reproduced_pop = np.array(selected_pop)[index,:]"
   ]
  },
  {
   "cell_type": "code",
   "execution_count": 43,
   "metadata": {},
   "outputs": [],
   "source": [
    "# Mutation\n",
    "mutated_pop = []\n",
    "for i in reproduced_pop:\n",
    "    random_a = np.random.choice([-0.01, 0, 0.01])\n",
    "    random_b = np.random.choice([-0.01, 0, 0.01])\n",
    "    random_c = np.random.choice([-0.01, 0, 0.01])\n",
    "    a = abs(i[0]+random_a)\n",
    "    b = abs(i[1]+random_a)\n",
    "    c = abs(i[2]+random_a)\n",
    "    fitness_score = round(abs(a+0.1*b+2*c-1.325), 3)\n",
    "    mutated_pop.append([a, b, c, fitness_score])\n",
    "\n",
    "initial_pop = mutated_pop # for next generation"
   ]
  },
  {
   "cell_type": "code",
   "execution_count": 44,
   "metadata": {},
   "outputs": [
    {
     "data": {
      "text/plain": [
       "[[0.4400000000000002, 0.4400000000000002, 0.4400000000000002, 0.039],\n",
       " [0.4300000000000002, 0.4300000000000002, 0.4300000000000002, 0.008],\n",
       " [0.4300000000000002, 0.4300000000000002, 0.4300000000000002, 0.008],\n",
       " [0.4300000000000002, 0.4300000000000002, 0.4300000000000002, 0.008],\n",
       " [0.4200000000000002, 0.4200000000000002, 0.4200000000000002, 0.023],\n",
       " [0.4200000000000002, 0.4200000000000002, 0.4200000000000002, 0.023],\n",
       " [0.4100000000000002, 0.4100000000000002, 0.4100000000000002, 0.054],\n",
       " [0.4300000000000002, 0.4300000000000002, 0.4300000000000002, 0.008],\n",
       " [0.4200000000000002, 0.4200000000000002, 0.4200000000000002, 0.023],\n",
       " [0.4400000000000002, 0.4400000000000002, 0.4400000000000002, 0.039],\n",
       " [0.4100000000000002, 0.4100000000000002, 0.4100000000000002, 0.054],\n",
       " [0.4300000000000002, 0.4300000000000002, 0.4300000000000002, 0.008],\n",
       " [0.4200000000000002, 0.4200000000000002, 0.4200000000000002, 0.023],\n",
       " [0.4200000000000002, 0.4200000000000002, 0.4200000000000002, 0.023],\n",
       " [0.4200000000000002, 0.4200000000000002, 0.4200000000000002, 0.023],\n",
       " [0.4400000000000002, 0.4400000000000002, 0.4400000000000002, 0.039],\n",
       " [0.4300000000000002, 0.4300000000000002, 0.4300000000000002, 0.008],\n",
       " [0.4400000000000002, 0.4400000000000002, 0.4400000000000002, 0.039],\n",
       " [0.4200000000000002, 0.4200000000000002, 0.4200000000000002, 0.023],\n",
       " [0.4100000000000002, 0.4100000000000002, 0.4100000000000002, 0.054],\n",
       " [0.4200000000000002, 0.4200000000000002, 0.4200000000000002, 0.023],\n",
       " [0.4100000000000002, 0.4100000000000002, 0.4100000000000002, 0.054],\n",
       " [0.4300000000000002, 0.4300000000000002, 0.4300000000000002, 0.008],\n",
       " [0.4300000000000002, 0.4300000000000002, 0.4300000000000002, 0.008],\n",
       " [0.4300000000000002, 0.4300000000000002, 0.4300000000000002, 0.008],\n",
       " [0.4100000000000002, 0.4100000000000002, 0.4100000000000002, 0.054],\n",
       " [0.4200000000000002, 0.4200000000000002, 0.4200000000000002, 0.023],\n",
       " [0.4100000000000002, 0.4100000000000002, 0.4100000000000002, 0.054],\n",
       " [0.4200000000000002, 0.4200000000000002, 0.4200000000000002, 0.023],\n",
       " [0.4200000000000002, 0.4200000000000002, 0.4200000000000002, 0.023]]"
      ]
     },
     "execution_count": 44,
     "metadata": {},
     "output_type": "execute_result"
    }
   ],
   "source": [
    "# Next generation\n",
    "for generation in range(100):\n",
    "    # Selection\n",
    "    averagefit = np.average(np.array(initial_pop)[:, 3])\n",
    "\n",
    "    selected_pop = []\n",
    "    for i in initial_pop:\n",
    "        if i[3] <= averagefit:\n",
    "            selected_pop.append(i)\n",
    "        if i[3] == 0:\n",
    "            print(i)\n",
    "\n",
    "    # Reproduction\n",
    "    index = np.random.randint(len(selected_pop), size = n)\n",
    "    reproduced_pop = np.array(selected_pop)[index,:]\n",
    "\n",
    "    # Mutation\n",
    "    mutated_pop = []\n",
    "    for i in reproduced_pop:\n",
    "        random_a = np.random.choice([-0.01, 0, 0.01])\n",
    "        random_b = np.random.choice([-0.01, 0, 0.01])\n",
    "        random_c = np.random.choice([-0.01, 0, 0.01])\n",
    "        a = abs(i[0]+random_a)\n",
    "        b = abs(i[1]+random_a)\n",
    "        c = abs(i[2]+random_a)\n",
    "        fitness_score = round(abs(a+0.1*b+2*c-1.325), 3)\n",
    "        mutated_pop.append([a, b, c, fitness_score])\n",
    "\n",
    "    initial_pop = mutated_pop # for next generation\n",
    "\n",
    "mutated_pop"
   ]
  }
 ],
 "metadata": {
  "kernelspec": {
   "display_name": "Python 3",
   "language": "python",
   "name": "python3"
  },
  "language_info": {
   "codemirror_mode": {
    "name": "ipython",
    "version": 3
   },
   "file_extension": ".py",
   "mimetype": "text/x-python",
   "name": "python",
   "nbconvert_exporter": "python",
   "pygments_lexer": "ipython3",
   "version": "3.12.0"
  }
 },
 "nbformat": 4,
 "nbformat_minor": 2
}
