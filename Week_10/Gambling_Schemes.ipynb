{
 "cells": [
  {
   "cell_type": "code",
   "execution_count": 1,
   "metadata": {},
   "outputs": [],
   "source": [
    "import numpy as np\n",
    "import matplotlib.pyplot as plt"
   ]
  },
  {
   "cell_type": "markdown",
   "metadata": {},
   "source": [
    "กลยุทธ์ : มีเงิน 1023 บาท เล่นตาละ 1 บาท ถ้าได้กำไร 1 บาท จะเลิกเล่นทันที\n",
    "-> หา expected value ของกำไร"
   ]
  },
  {
   "cell_type": "code",
   "execution_count": 31,
   "metadata": {},
   "outputs": [
    {
     "name": "stdout",
     "output_type": "stream",
     "text": [
      "-93.208\n"
     ]
    }
   ],
   "source": [
    "loss = 0\n",
    "win = 0\n",
    "sum_money = 0\n",
    "n = 1000\n",
    "\n",
    "for i in range(n):\n",
    "    money = 1023\n",
    "    profit = 0\n",
    "    while profit != 1 and money > 0:\n",
    "        x = np.random.uniform(0, 1)\n",
    "        if x <= (18/38):\n",
    "            profit+=1\n",
    "            money += 1\n",
    "        else:\n",
    "            profit-=1\n",
    "            money -= 1\n",
    "\n",
    "    if money == 0:\n",
    "        loss+=1\n",
    "    else:\n",
    "        win+=1\n",
    "expected_value = (win/n)*(1)+(loss/n)*(-1023)\n",
    "print(expected_value)"
   ]
  },
  {
   "cell_type": "markdown",
   "metadata": {},
   "source": [
    "Doubling-up (martingale): มีเงิน 1023 บาท เล่นตาละ 1 บาท ถ้าได้กำไร 1 บาท จะเลิกเล่นทันที แต่ถ้าเสีย ตาต่อไปแทงเพิ่มเท่าตัว\n",
    "-> หา expected value ของกำไร"
   ]
  },
  {
   "cell_type": "code",
   "execution_count": 12,
   "metadata": {},
   "outputs": [
    {
     "name": "stdout",
     "output_type": "stream",
     "text": [
      "-0.6588799999999999\n"
     ]
    }
   ],
   "source": [
    "loss = 0\n",
    "win = 0\n",
    "sum_money = 0\n",
    "n = 100000\n",
    "\n",
    "for i in range(n):\n",
    "    money = 1023\n",
    "    profit = 0\n",
    "    bet = 1\n",
    "\n",
    "    while profit != 1 and money > 0:\n",
    "        x = np.random.uniform(0, 1)\n",
    "        if x <= (18/38):\n",
    "            profit += bet\n",
    "            money += bet\n",
    "        else:\n",
    "            profit -= bet\n",
    "            money -= bet\n",
    "            bet *= 2\n",
    "\n",
    "    if money == 0:\n",
    "        loss += 1\n",
    "    else:\n",
    "        win += 1\n",
    "\n",
    "expected_value = (win/n)*(1) + (loss/n)*(-1023)\n",
    "print(expected_value)\n"
   ]
  },
  {
   "cell_type": "markdown",
   "metadata": {},
   "source": [
    "เล่นเกมทอยเหรียญที่มีการถ่วงน้ำหนักให้โอกาสออกหัวเป็น 0.6 ในแต่ละตาควรแทงด้วยสัดส่วนเท่าไหร่ของเงินที่มี เพื่อให้ได้กำไรสูงสุด (เล่น 300 ตา จำนวน 1,000 เกม)"
   ]
  },
  {
   "cell_type": "code",
   "execution_count": 26,
   "metadata": {},
   "outputs": [
    {
     "name": "stdout",
     "output_type": "stream",
     "text": [
      "[697.631310445347, 5551112.256989265, 1478562.3937076528, 6644933295.429524, 20551.105419190313, 3.612270800096329, 32.57049223350267, 0.14025016205976043, 0.0006421868711426909, 0.0]\n",
      "6644933295.429524\n"
     ]
    },
    {
     "data": {
      "text/plain": [
       "[<matplotlib.lines.Line2D at 0x1f5cd13bf50>]"
      ]
     },
     "execution_count": 26,
     "metadata": {},
     "output_type": "execute_result"
    },
    {
     "data": {
      "image/png": "[encoded data removed]",
      "text/plain": [
       "<Figure size 640x480 with 1 Axes>"
      ]
     },
     "metadata": {},
     "output_type": "display_data"
    }
   ],
   "source": [
    "x = [0.1, 0.2, 0.3, 0.4, 0.5, 0.6, 0.7, 0.8, 0.9, 1.0]\n",
    "expected_value_x = []\n",
    "\n",
    "for i in range(len(x)):\n",
    "    for j in range(1000):\n",
    "        \n",
    "        expected_value_list = []\n",
    "        money = 1\n",
    "\n",
    "        for k in range(300):\n",
    "            gambling = np.random.randint(1, 10)\n",
    "            if gambling <= 6:\n",
    "                money += money*x[i]\n",
    "            else:\n",
    "                money -= money*x[i]\n",
    "            expected_value_list.append(money)\n",
    "    expected_value_x.append(np.mean(expected_value_list))\n",
    "print(expected_value_x)\n",
    "print(max(expected_value_x))\n",
    "\n",
    "plt.xlabel(\"Bet ratio\")\n",
    "plt.ylabel(\"Expected value\")\n",
    "plt.plot(x, expected_value_x, marker='o')"
   ]
  }
 ],
 "metadata": {
  "kernelspec": {
   "display_name": "Python 3",
   "language": "python",
   "name": "python3"
  },
  "language_info": {
   "codemirror_mode": {
    "name": "ipython",
    "version": 3
   },
   "file_extension": ".py",
   "mimetype": "text/x-python",
   "name": "python",
   "nbconvert_exporter": "python",
   "pygments_lexer": "ipython3",
   "version": "3.12.0"
  }
 },
 "nbformat": 4,
 "nbformat_minor": 2
}
