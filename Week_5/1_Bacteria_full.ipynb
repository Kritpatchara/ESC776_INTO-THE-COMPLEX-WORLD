{
  "cells": [
    {
      "cell_type": "code",
      "execution_count": null,
      "metadata": {
        "id": "BydF_5RB7-36"
      },
      "outputs": [],
      "source": [
        "import numpy as np\n",
        "import matplotlib.pyplot as plt"
      ]
    },
    {
      "cell_type": "code",
      "execution_count": 20,
      "metadata": {
        "colab": {
          "base_uri": "https://localhost:8080/",
          "height": 265
        },
        "id": "ljNpiYPI8rEe",
        "outputId": "fcd9bc44-ad5f-4b5e-ae4b-5b80f281267e"
      },
      "outputs": [
        {
          "data": {
            "image/png": "[encoded data removed]",
            "text/plain": [
              "<Figure size 432x288 with 1 Axes>"
            ]
          },
          "metadata": {
            "needs_background": "light"
          },
          "output_type": "display_data"
        }
      ],
      "source": [
        "# Population initiation\n",
        "K=1000\n",
        "initial_pop = np.random.normal( 100, 15, K )\n",
        "plt.hist( initial_pop, bins=np.arange(0,200,1) );"
      ]
    },
    {
      "cell_type": "code",
      "execution_count": 24,
      "metadata": {
        "colab": {
          "base_uri": "https://localhost:8080/",
          "height": 303
        },
        "id": "-767fL8CATX7",
        "outputId": "a42598f0-399d-47ba-9485-962f8e017958"
      },
      "outputs": [
        {
          "name": "stdout",
          "output_type": "stream",
          "text": [
            "[140.1864178889141, 157.31567446887857, 159.31567446887857, 156.31567446887857, 153.31567446887857, 154.31567446887857, 142.69615030474063, 157.31567446887857, 154.31567446887857, 159.31567446887857, 156.31567446887857, 141.4929504653902, 143.1864178889141, 141.69615030474063, 154.31567446887857, 142.1864178889141, 159.31567446887857, 140.1864178889141, 158.31567446887857, 141.1864178889141, 140.4929504653902]\n"
          ]
        },
        {
          "data": {
            "image/png": "[encoded data removed]",
            "text/plain": [
              "<Figure size 432x288 with 1 Axes>"
            ]
          },
          "metadata": {
            "needs_background": "light"
          },
          "output_type": "display_data"
        }
      ],
      "source": [
        "# Natural selection\n",
        "drug=140\n",
        "selected_pop=[]\n",
        "\n",
        "for i in initial_pop:\n",
        "  if i >= drug:\n",
        "    selected_pop.append(i)\n",
        "\n",
        "print(selected_pop)\n",
        "\n",
        "plt.hist( initial_pop, bins=np.arange(0,200,1) );\n",
        "plt.hist( selected_pop, bins=np.arange(0,200,1) );\n",
        "\n"
      ]
    },
    {
      "cell_type": "code",
      "execution_count": 25,
      "metadata": {
        "colab": {
          "base_uri": "https://localhost:8080/",
          "height": 267
        },
        "id": "TSGrpYNaEDpt",
        "outputId": "9286a537-4489-493a-9851-f63c5c38d3d2"
      },
      "outputs": [
        {
          "data": {
            "image/png": "[encoded data removed]",
            "text/plain": [
              "<Figure size 432x288 with 1 Axes>"
            ]
          },
          "metadata": {
            "needs_background": "light"
          },
          "output_type": "display_data"
        }
      ],
      "source": [
        "# Reproduction\n",
        "reproduced_pop = np.random.choice( selected_pop, K )\n",
        "\n",
        "plt.hist( initial_pop, bins=np.arange(0,200,1) );\n",
        "plt.hist( reproduced_pop, bins=np.arange(0,200,1) );"
      ]
    },
    {
      "cell_type": "code",
      "execution_count": 26,
      "metadata": {
        "colab": {
          "base_uri": "https://localhost:8080/",
          "height": 265
        },
        "id": "jAdrajoEFp6p",
        "outputId": "3f711385-3b92-459d-ea26-3fffaf2801e7"
      },
      "outputs": [
        {
          "data": {
            "image/png": "[encoded data removed]",
            "text/plain": [
              "<Figure size 432x288 with 1 Axes>"
            ]
          },
          "metadata": {
            "needs_background": "light"
          },
          "output_type": "display_data"
        }
      ],
      "source": [
        "# Mutation\n",
        "mutated_pop=[]\n",
        "for i in reproduced_pop:\n",
        "  r=np.random.choice( [-3,-2,-1,0,1,2,3] )\n",
        "  mutated_pop.append( i+r )\n",
        "\n",
        "plt.hist( initial_pop, bins=np.arange(0,200,1) );\n",
        "plt.hist( mutated_pop, bins=np.arange(0,200,1) );\n",
        "\n",
        "initial_pop=mutated_pop"
      ]
    }
  ],
  "metadata": {
    "colab": {
      "provenance": []
    },
    "kernelspec": {
      "display_name": "Python 3",
      "name": "python3"
    },
    "language_info": {
      "name": "python"
    }
  },
  "nbformat": 4,
  "nbformat_minor": 0
}
